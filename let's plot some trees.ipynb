{
 "cells": [
  {
   "cell_type": "code",
   "execution_count": 2,
   "id": "2d71c786-530c-4894-882d-1890c0e8a78b",
   "metadata": {},
   "outputs": [],
   "source": [
    "import pandas as pd \n",
    "from sklearn.preprocessing import LabelEncoder # Imporing the LabelEncoder function\n",
    "\n",
    "df = pd.read_csv('titanic-passengers.csv', delimiter=';')\n",
    "df['Age'].fillna(df['Age'].mean(), inplace = True) # Filling nan age values\n",
    "df['Age'] = df['Age'].astype(int)\n",
    "df['embarked'] = df.Embarked.fillna('S') # Filling nan embarked values by 'S' since it's the most commun\n",
    "\n",
    "\n",
    "dropped_columns = ['Name', 'Ticket', 'PassengerId', 'Cabin']\n",
    "for column in dropped_columns:\n",
    "    df = df.drop(column, axis=1) # Dropping useless columns\n",
    "    \n",
    "Columns = ['Sex', 'embarked', 'Survived']\n",
    "for Column in Columns:\n",
    "    Variable_encoded = LabelEncoder().fit_transform(df[Column]) # Changing categorical data into numerical randomly \n",
    "    df[Column] = Variable_encoded # applying encoding into the DF\n",
    "    \n",
    "df = df.dropna(axis='columns')"
   ]
  },
  {
   "cell_type": "code",
   "execution_count": 3,
   "id": "037ad956",
   "metadata": {},
   "outputs": [
    {
     "name": "stdout",
     "output_type": "stream",
     "text": [
      "<class 'pandas.core.frame.DataFrame'>\n",
      "RangeIndex: 891 entries, 0 to 890\n",
      "Data columns (total 8 columns):\n",
      " #   Column    Non-Null Count  Dtype  \n",
      "---  ------    --------------  -----  \n",
      " 0   Survived  891 non-null    int32  \n",
      " 1   Pclass    891 non-null    int64  \n",
      " 2   Sex       891 non-null    int32  \n",
      " 3   Age       891 non-null    int32  \n",
      " 4   SibSp     891 non-null    int64  \n",
      " 5   Parch     891 non-null    int64  \n",
      " 6   Fare      891 non-null    float64\n",
      " 7   embarked  891 non-null    int32  \n",
      "dtypes: float64(1), int32(4), int64(3)\n",
      "memory usage: 41.9 KB\n"
     ]
    }
   ],
   "source": [
    "\n",
    "df.info()"
   ]
  },
  {
   "cell_type": "code",
   "execution_count": 5,
   "id": "04ebcc19",
   "metadata": {},
   "outputs": [
    {
     "data": {
      "text/plain": [
       "Survived    0\n",
       "Pclass      0\n",
       "Sex         0\n",
       "Age         0\n",
       "SibSp       0\n",
       "Parch       0\n",
       "Fare        0\n",
       "embarked    0\n",
       "dtype: int64"
      ]
     },
     "execution_count": 5,
     "metadata": {},
     "output_type": "execute_result"
    }
   ],
   "source": [
    "\n",
    "df.isnull().sum()"
   ]
  },
  {
   "cell_type": "code",
   "execution_count": null,
   "id": "5f36a370",
   "metadata": {},
   "outputs": [],
   "source": [
    "df.shape"
   ]
  },
  {
   "cell_type": "code",
   "execution_count": null,
   "id": "55a37463",
   "metadata": {},
   "outputs": [],
   "source": [
    "df.head(5)"
   ]
  },
  {
   "cell_type": "code",
   "execution_count": 6,
   "id": "f1c20791",
   "metadata": {},
   "outputs": [],
   "source": [
    "#importing relevant libraries\n",
    "from sklearn.model_selection import train_test_split\n",
    "from sklearn import tree as tr   \n",
    "from sklearn.tree import DecisionTreeClassifier\n",
    "from sklearn.metrics import accuracy_score"
   ]
  },
  {
   "cell_type": "code",
   "execution_count": 7,
   "id": "541dadfb",
   "metadata": {},
   "outputs": [
    {
     "name": "stdout",
     "output_type": "stream",
     "text": [
      "score:0.8156424581005587\n"
     ]
    }
   ],
   "source": [
    "#features extraction\n",
    "x = df.drop([\"Survived\"], axis=1)\n",
    "y= df[\"Survived\"]\n",
    "T=[]\n",
    "\n",
    "for i in range(1000): # for loop to store all possible scores \n",
    "    #splitting data\n",
    "    x_train, x_test, y_train, y_test = train_test_split(x,y, test_size=0.20,random_state=i)\n",
    "    #applying tree algorithm\n",
    "    tree = tr.DecisionTreeClassifier()  \n",
    "    tree.fit(x_train, y_train)   #fitting our model\n",
    "    y_pred=tree.predict(x_test)   # evaluating our model\n",
    "    T.append(accuracy_score(y_test, y_pred)) # storing the scores in an array\n",
    "    \n",
    "for i in range(999): # Iterating throw the scores array to extract the best score\n",
    "    if T[i] > T[i+1]:\n",
    "        max = i # taking the index of the best score \n",
    "        \n",
    "print(\"score:{}\".format(T[max])) # printing the best score"
   ]
  },
  {
   "cell_type": "code",
   "execution_count": 9,
   "id": "04dcccb9",
   "metadata": {},
   "outputs": [
    {
     "name": "stdout",
     "output_type": "stream",
     "text": [
      "score:0.659217877094972\n"
     ]
    }
   ],
   "source": [
    "#features extraction\n",
    "x = df[['Fare']]\n",
    "y= df[\"Survived\"]\n",
    "#splitting data\n",
    "x_train, x_test, y_train, y_test = train_test_split(x,y, test_size=0.20,random_state=101)\n",
    "\n",
    "#applying tree algorithm\n",
    "tree = tr.DecisionTreeClassifier()  \n",
    "tree.fit(x_train, y_train)   #fitting our model\n",
    "y_pred=tree.predict(x_test)   # evaluating our model\n",
    "print(\"score:{}\".format(accuracy_score(y_test, y_pred)))"
   ]
  },
  {
   "cell_type": "code",
   "execution_count": null,
   "id": "d2ff35fa",
   "metadata": {},
   "outputs": [],
   "source": [
    "\n",
    "from sklearn.ensemble import RandomForestClassifier #Importing Random Forest Classifier\n",
    "from sklearn import metrics  # Importing metrics to test accuracy\n",
    "\n",
    "#features extraction\n",
    "x = df.drop([\"Survived\"], axis=1)\n",
    "y= df[\"Survived\"]\n",
    "T=[]\n",
    "\n",
    "for i in range(1000):\n",
    "    #splitting data\n",
    "    x_train, x_test, y_train, y_test = train_test_split(x,y, test_size=0.20,random_state=i)\n",
    "    clf=RandomForestClassifier(n_estimators=50)  #Creating a random forest with 100 decision trees\n",
    "    clf.fit(x_train, y_train)  #Training our model\n",
    "    y_pred=clf.predict(x_test)  #testing our model\n",
    "    T.append(metrics.accuracy_score(y_test, y_pred)) # storing the scores in an array\n",
    "    \n",
    "\n",
    "for i in range(999): # Iterating throw the scores array to extract the best score\n",
    "    if T[i] > T[i+1]:\n",
    "        max = i # taking the index of the best score \n",
    "        \n",
    "        \n",
    "print(\"Accuracy:\", T[max])  #Measuring the accuracy of our model"
   ]
  },
  {
   "cell_type": "code",
   "execution_count": null,
   "id": "651b4f3d",
   "metadata": {},
   "outputs": [],
   "source": []
  }
 ],
 "metadata": {
  "kernelspec": {
   "display_name": "Python 3",
   "language": "python",
   "name": "python3"
  },
  "language_info": {
   "codemirror_mode": {
    "name": "ipython",
    "version": 3
   },
   "file_extension": ".py",
   "mimetype": "text/x-python",
   "name": "python",
   "nbconvert_exporter": "python",
   "pygments_lexer": "ipython3",
   "version": "3.8.8"
  }
 },
 "nbformat": 4,
 "nbformat_minor": 5
}
